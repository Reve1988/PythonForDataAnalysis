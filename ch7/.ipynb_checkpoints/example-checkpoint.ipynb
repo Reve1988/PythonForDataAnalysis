{
 "cells": [
  {
   "cell_type": "markdown",
   "metadata": {},
   "source": [
    "# 7. 데이터 준비하기 : 다듬기, 변형, 병합"
   ]
  },
  {
   "cell_type": "markdown",
   "metadata": {},
   "source": [
    "## 7.2 재형성과 피벗"
   ]
  },
  {
   "cell_type": "markdown",
   "metadata": {},
   "source": [
    "표 형식의 데이터를 재배치하는 다양한 연산이 존재하는데, 이런 연산을 재형성 또는 피벗 연산이라고 한다."
   ]
  },
  {
   "cell_type": "markdown",
   "metadata": {},
   "source": [
    "### 7.2.1 계층적 색인으로 재형성하기"
   ]
  },
  {
   "cell_type": "markdown",
   "metadata": {},
   "source": [
    "계층적 색인은 다음과 같은 Dataframe의 데이터를 재배치하는 한결같은 방식을 제공한다.\n",
    "- stack : 데이터의 column을 row로 피벗 또는 회전시킨다.\n",
    "- unstack : 데이터의 row를 column으로 피벗시킨다."
   ]
  },
  {
   "cell_type": "code",
   "execution_count": null,
   "metadata": {
    "collapsed": true
   },
   "outputs": [],
   "source": []
  }
 ],
 "metadata": {
  "kernelspec": {
   "display_name": "Python 3",
   "language": "python",
   "name": "python3"
  },
  "language_info": {
   "codemirror_mode": {
    "name": "ipython",
    "version": 3
   },
   "file_extension": ".py",
   "mimetype": "text/x-python",
   "name": "python",
   "nbconvert_exporter": "python",
   "pygments_lexer": "ipython3",
   "version": "3.5.1"
  }
 },
 "nbformat": 4,
 "nbformat_minor": 0
}
